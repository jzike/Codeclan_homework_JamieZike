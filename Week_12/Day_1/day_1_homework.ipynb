{
 "cells": [
  {
   "cell_type": "markdown",
   "id": "c0bd0435",
   "metadata": {},
   "source": [
    "# Homework"
   ]
  },
  {
   "cell_type": "markdown",
   "id": "f07ca002",
   "metadata": {},
   "source": [
    "## Question 1\n",
    "Create a list with the following data, and then assign it to a variable named shopping: spam, ham, eggs, ham"
   ]
  },
  {
   "cell_type": "code",
   "execution_count": 1,
   "id": "a0b14c16",
   "metadata": {},
   "outputs": [],
   "source": [
    "shopping = [\"spam\", \"ham\", \"eggs\", \"ham\"]"
   ]
  },
  {
   "cell_type": "markdown",
   "id": "2b1375bb",
   "metadata": {},
   "source": [
    "1) Extract the second element of the list"
   ]
  },
  {
   "cell_type": "code",
   "execution_count": 2,
   "id": "c5ebef2a",
   "metadata": {},
   "outputs": [
    {
     "data": {
      "text/plain": [
       "'ham'"
      ]
     },
     "execution_count": 2,
     "metadata": {},
     "output_type": "execute_result"
    }
   ],
   "source": [
    "shopping[1]"
   ]
  },
  {
   "cell_type": "markdown",
   "id": "fb9eb4f9",
   "metadata": {},
   "source": [
    "2) Extract the first to the third (inclusive) element of the list"
   ]
  },
  {
   "cell_type": "code",
   "execution_count": 4,
   "id": "1acccf34",
   "metadata": {},
   "outputs": [
    {
     "data": {
      "text/plain": [
       "['spam', 'ham', 'eggs']"
      ]
     },
     "execution_count": 4,
     "metadata": {},
     "output_type": "execute_result"
    }
   ],
   "source": [
    "shopping[:3]"
   ]
  },
  {
   "cell_type": "markdown",
   "id": "2454c88b",
   "metadata": {},
   "source": [
    "3) Extract only the last element of the list"
   ]
  },
  {
   "cell_type": "code",
   "execution_count": 5,
   "id": "d71551b0",
   "metadata": {},
   "outputs": [
    {
     "data": {
      "text/plain": [
       "'ham'"
      ]
     },
     "execution_count": 5,
     "metadata": {},
     "output_type": "execute_result"
    }
   ],
   "source": [
    "shopping[-1]"
   ]
  },
  {
   "cell_type": "markdown",
   "id": "8a19b7ac",
   "metadata": {},
   "source": [
    "## Question 2\n",
    "\n",
    "Set up a list with the following elements: stops = Croy, Cumbernauld, Falkirk High, Linlithgow, Livingston, Haymarket"
   ]
  },
  {
   "cell_type": "code",
   "execution_count": 21,
   "id": "faf50807",
   "metadata": {},
   "outputs": [],
   "source": [
    "stops = [\"Croy\", \"Cumbernauld\", \"Falkirk High\", \"Linlithgow\", \"Livingston\", \"Haymarket\"]"
   ]
  },
  {
   "cell_type": "markdown",
   "id": "e13cbd69",
   "metadata": {},
   "source": [
    "1) Append Edinburgh Waverley to the end of the list"
   ]
  },
  {
   "cell_type": "code",
   "execution_count": 22,
   "id": "036d597b",
   "metadata": {},
   "outputs": [
    {
     "data": {
      "text/plain": [
       "['Croy',\n",
       " 'Cumbernauld',\n",
       " 'Falkirk High',\n",
       " 'Linlithgow',\n",
       " 'Livingston',\n",
       " 'Haymarket',\n",
       " 'Edinburgh Waverley']"
      ]
     },
     "execution_count": 22,
     "metadata": {},
     "output_type": "execute_result"
    }
   ],
   "source": [
    "stops.append(\"Edinburgh Waverley\")\n",
    "stops"
   ]
  },
  {
   "cell_type": "markdown",
   "id": "ebe47e1d",
   "metadata": {},
   "source": [
    "2) Add \"Queen Street\" to the start of the list"
   ]
  },
  {
   "cell_type": "code",
   "execution_count": 23,
   "id": "063b4208",
   "metadata": {},
   "outputs": [
    {
     "data": {
      "text/plain": [
       "['Queen Street',\n",
       " 'Croy',\n",
       " 'Cumbernauld',\n",
       " 'Falkirk High',\n",
       " 'Linlithgow',\n",
       " 'Livingston',\n",
       " 'Haymarket',\n",
       " 'Edinburgh Waverley']"
      ]
     },
     "execution_count": 23,
     "metadata": {},
     "output_type": "execute_result"
    }
   ],
   "source": [
    "stops.insert(0, \"Queen Street\")\n",
    "stops"
   ]
  },
  {
   "cell_type": "markdown",
   "id": "daa4f094",
   "metadata": {},
   "source": [
    "3) Find out what index \"Croy\" is at in the list"
   ]
  },
  {
   "cell_type": "code",
   "execution_count": 17,
   "id": "ae319923",
   "metadata": {},
   "outputs": [
    {
     "data": {
      "text/plain": [
       "1"
      ]
     },
     "execution_count": 17,
     "metadata": {},
     "output_type": "execute_result"
    }
   ],
   "source": [
    "stops.index(\"Croy\")"
   ]
  },
  {
   "cell_type": "markdown",
   "id": "f0687351",
   "metadata": {},
   "source": [
    "4) Add \"Polmont\" at the appropriate point"
   ]
  },
  {
   "cell_type": "code",
   "execution_count": 24,
   "id": "0356cc4e",
   "metadata": {},
   "outputs": [
    {
     "data": {
      "text/plain": [
       "['Queen Street',\n",
       " 'Croy',\n",
       " 'Cumbernauld',\n",
       " 'Falkirk High',\n",
       " 'Polmont',\n",
       " 'Linlithgow',\n",
       " 'Livingston',\n",
       " 'Haymarket',\n",
       " 'Edinburgh Waverley']"
      ]
     },
     "execution_count": 24,
     "metadata": {},
     "output_type": "execute_result"
    }
   ],
   "source": [
    "stops.insert(4, \"Polmont\")\n",
    "stops"
   ]
  },
  {
   "cell_type": "markdown",
   "id": "d22e6a31",
   "metadata": {},
   "source": [
    "5) Remove \"Haymarket\" from the list of stops"
   ]
  },
  {
   "cell_type": "code",
   "execution_count": 25,
   "id": "61aebeac",
   "metadata": {},
   "outputs": [
    {
     "data": {
      "text/plain": [
       "['Queen Street',\n",
       " 'Croy',\n",
       " 'Cumbernauld',\n",
       " 'Falkirk High',\n",
       " 'Polmont',\n",
       " 'Linlithgow',\n",
       " 'Livingston',\n",
       " 'Edinburgh Waverley']"
      ]
     },
     "execution_count": 25,
     "metadata": {},
     "output_type": "execute_result"
    }
   ],
   "source": [
    "stops.remove(\"Haymarket\")\n",
    "stops"
   ]
  },
  {
   "cell_type": "markdown",
   "id": "a01b5245",
   "metadata": {},
   "source": [
    "6) Remove all items from stops"
   ]
  },
  {
   "cell_type": "code",
   "execution_count": 26,
   "id": "87681659",
   "metadata": {},
   "outputs": [
    {
     "data": {
      "text/plain": [
       "[]"
      ]
     },
     "execution_count": 26,
     "metadata": {},
     "output_type": "execute_result"
    }
   ],
   "source": [
    "stops = []\n",
    "stops"
   ]
  },
  {
   "cell_type": "markdown",
   "id": "0959198e",
   "metadata": {},
   "source": [
    "## Question 3\n",
    "\n",
    "Set up the following dictionary: person = {\"name\": \"Steph\", \"age\": 31, \"Instructor\" : True}"
   ]
  },
  {
   "cell_type": "code",
   "execution_count": 33,
   "id": "67a375e3",
   "metadata": {},
   "outputs": [],
   "source": [
    "person = {\"name\": \"Steph\", \"age\": 31, \"Instructor\" : True}"
   ]
  },
  {
   "cell_type": "markdown",
   "id": "a27750ca",
   "metadata": {},
   "source": [
    "1) Return the keys, values and items from this dictionary."
   ]
  },
  {
   "cell_type": "code",
   "execution_count": 28,
   "id": "353b692b",
   "metadata": {},
   "outputs": [
    {
     "data": {
      "text/plain": [
       "dict_keys(['name', 'age', 'Instructor'])"
      ]
     },
     "execution_count": 28,
     "metadata": {},
     "output_type": "execute_result"
    }
   ],
   "source": [
    "person.keys()"
   ]
  },
  {
   "cell_type": "code",
   "execution_count": 29,
   "id": "d37a271e",
   "metadata": {},
   "outputs": [
    {
     "data": {
      "text/plain": [
       "dict_values(['Steph', 31, True])"
      ]
     },
     "execution_count": 29,
     "metadata": {},
     "output_type": "execute_result"
    }
   ],
   "source": [
    "person.values()"
   ]
  },
  {
   "cell_type": "code",
   "execution_count": 30,
   "id": "46e79a47",
   "metadata": {},
   "outputs": [
    {
     "data": {
      "text/plain": [
       "dict_items([('name', 'Steph'), ('age', 31), ('Instructor', True)])"
      ]
     },
     "execution_count": 30,
     "metadata": {},
     "output_type": "execute_result"
    }
   ],
   "source": [
    "person.items()"
   ]
  },
  {
   "cell_type": "markdown",
   "id": "6dbb39cf",
   "metadata": {},
   "source": [
    "2) Take out only the name from it"
   ]
  },
  {
   "cell_type": "code",
   "execution_count": 34,
   "id": "bc629354",
   "metadata": {},
   "outputs": [
    {
     "data": {
      "text/plain": [
       "'Steph'"
      ]
     },
     "execution_count": 34,
     "metadata": {},
     "output_type": "execute_result"
    }
   ],
   "source": [
    "person[\"name\"]"
   ]
  },
  {
   "cell_type": "markdown",
   "id": "e8a5c262",
   "metadata": {},
   "source": [
    "3) Add a new key:value pair, which adds the email"
   ]
  },
  {
   "cell_type": "code",
   "execution_count": 35,
   "id": "d6ce47a8",
   "metadata": {},
   "outputs": [],
   "source": [
    "person.update({\"email\": \"steph@codeclan.com\"})"
   ]
  },
  {
   "cell_type": "code",
   "execution_count": 36,
   "id": "a58160bb",
   "metadata": {},
   "outputs": [
    {
     "data": {
      "text/plain": [
       "{'name': 'Steph', 'age': 31, 'Instructor': True, 'email': 'steph@codeclan.com'}"
      ]
     },
     "execution_count": 36,
     "metadata": {},
     "output_type": "execute_result"
    }
   ],
   "source": [
    "person"
   ]
  },
  {
   "cell_type": "markdown",
   "id": "9fb7dc4e",
   "metadata": {},
   "source": [
    "4) Delete the job description from the dictionary"
   ]
  },
  {
   "cell_type": "code",
   "execution_count": 37,
   "id": "8e17bcee",
   "metadata": {},
   "outputs": [
    {
     "data": {
      "text/plain": [
       "True"
      ]
     },
     "execution_count": 37,
     "metadata": {},
     "output_type": "execute_result"
    }
   ],
   "source": [
    "person.pop(\"Instructor\")"
   ]
  },
  {
   "cell_type": "code",
   "execution_count": 38,
   "id": "f34a285b",
   "metadata": {},
   "outputs": [
    {
     "data": {
      "text/plain": [
       "{'name': 'Steph', 'age': 31, 'email': 'steph@codeclan.com'}"
      ]
     },
     "execution_count": 38,
     "metadata": {},
     "output_type": "execute_result"
    }
   ],
   "source": [
    "person"
   ]
  },
  {
   "cell_type": "markdown",
   "id": "8ae55300",
   "metadata": {},
   "source": [
    "## Question 4\n",
    "\n",
    "For the following list of numbers:\n",
    "numbers = [1, 6, 2, 2, 7, 1, 6, 13, 99, 7]"
   ]
  },
  {
   "cell_type": "code",
   "execution_count": 39,
   "id": "44d13757",
   "metadata": {},
   "outputs": [],
   "source": [
    "numbers = [1, 6, 2, 2, 7, 1, 6, 13, 99, 7]"
   ]
  },
  {
   "cell_type": "markdown",
   "id": "38a9fff6",
   "metadata": {},
   "source": [
    "1) Print out a list of the even integers"
   ]
  },
  {
   "cell_type": "code",
   "execution_count": 40,
   "id": "7e99df00",
   "metadata": {},
   "outputs": [
    {
     "data": {
      "text/plain": [
       "[6, 2, 2, 6]"
      ]
     },
     "execution_count": 40,
     "metadata": {},
     "output_type": "execute_result"
    }
   ],
   "source": [
    "[number for number in numbers if number % 2 == 0]"
   ]
  },
  {
   "cell_type": "markdown",
   "id": "d3a853b1",
   "metadata": {},
   "source": [
    "2) Print the difference between the largest and smallest value"
   ]
  },
  {
   "cell_type": "code",
   "execution_count": 43,
   "id": "4f710a4d",
   "metadata": {},
   "outputs": [
    {
     "data": {
      "text/plain": [
       "98"
      ]
     },
     "execution_count": 43,
     "metadata": {},
     "output_type": "execute_result"
    }
   ],
   "source": [
    "def max_min_diff(numbers):\n",
    "    number_1 = max(numbers)\n",
    "    number_2 = min(numbers)\n",
    "    return number_1 - number_2\n",
    "\n",
    "max_min_diff(numbers)"
   ]
  },
  {
   "cell_type": "markdown",
   "id": "d43ebb39",
   "metadata": {},
   "source": [
    "3) Print true if the list contains a 2 next to a 2 somewhere"
   ]
  },
  {
   "cell_type": "code",
   "execution_count": 52,
   "id": "18fae8d7",
   "metadata": {},
   "outputs": [
    {
     "name": "stdout",
     "output_type": "stream",
     "text": [
      "True\n"
     ]
    }
   ],
   "source": [
    "stored_value = 0\n",
    "for number in numbers:\n",
    "    if stored_value == 2 and number == 2:\n",
    "        print(True)\n",
    "    else: stored_value = number"
   ]
  },
  {
   "cell_type": "markdown",
   "id": "38b7fae2",
   "metadata": {},
   "source": [
    "4) Print the sum of the numbers, BUT ignore any section of numbers starting with a 6 and extending to the next 7"
   ]
  },
  {
   "cell_type": "code",
   "execution_count": 60,
   "id": "ce7704ab",
   "metadata": {},
   "outputs": [
    {
     "ename": "TypeError",
     "evalue": "'int' object is not iterable",
     "output_type": "error",
     "traceback": [
      "\u001b[1;31m---------------------------------------------------------------------------\u001b[0m",
      "\u001b[1;31mTypeError\u001b[0m                                 Traceback (most recent call last)",
      "Input \u001b[1;32mIn [60]\u001b[0m, in \u001b[0;36m<cell line: 3>\u001b[1;34m()\u001b[0m\n\u001b[0;32m      6\u001b[0m             ignore_list\u001b[38;5;241m.\u001b[39mappend(number)\n\u001b[0;32m      7\u001b[0m     \u001b[38;5;28;01mif\u001b[39;00m number \u001b[38;5;241m!=\u001b[39m \u001b[38;5;241m6\u001b[39m:\n\u001b[1;32m----> 8\u001b[0m         sum_number \u001b[38;5;241m+\u001b[39m\u001b[38;5;241m=\u001b[39m number\n\u001b[0;32m     10\u001b[0m sum_number\n",
      "\u001b[1;31mTypeError\u001b[0m: 'int' object is not iterable"
     ]
    }
   ],
   "source": []
  },
  {
   "cell_type": "markdown",
   "id": "2503ac8d",
   "metadata": {},
   "source": [
    "## Question 5\n",
    "\n",
    "Write a conditional that takes in two inputs"
   ]
  },
  {
   "cell_type": "code",
   "execution_count": 65,
   "id": "155913ff",
   "metadata": {},
   "outputs": [
    {
     "name": "stdout",
     "output_type": "stream",
     "text": [
      "Python is not for me!\n"
     ]
    }
   ],
   "source": [
    "python_is_fun = True\n",
    "python_is_weird = False\n",
    "\n",
    "if python_is_fun == True or python_is_weird == True or python_is_fun == True and python_is_weird == True:\n",
    "    print(\"Woo Python!\")\n",
    "else:\n",
    "    print(\"Python is not for me!\")"
   ]
  },
  {
   "cell_type": "markdown",
   "id": "680c562f",
   "metadata": {},
   "source": [
    "## Question 6\n",
    "\n",
    "We have a list of chickens and the farmer would like to go through all the chickens, collecting the eggs and getting the total number of eggs collected."
   ]
  },
  {
   "cell_type": "code",
   "execution_count": 66,
   "id": "3859bfc3",
   "metadata": {},
   "outputs": [
    {
     "name": "stdout",
     "output_type": "stream",
     "text": [
      "4 total eggs collected\n"
     ]
    }
   ],
   "source": [
    "chickens = [\n",
    "  { \"name\": \"Margaret\", \"age\": 2, \"eggs\": 0 },\n",
    "  { \"name\": \"Hetty\", \"age\": 1, \"eggs\": 2 },\n",
    "  { \"name\": \"Henrietta\", \"age\": 3, \"eggs\": 1 },\n",
    "  { \"name\": \"Audrey\", \"age\": 2, \"eggs\": 0 },\n",
    "  { \"name\": \"Mabel\", \"age\": 5, \"eggs\": 1 },\n",
    "]\n",
    "\n",
    "chickens2 = [\n",
    "  { \"name\": \"Sally\", \"age\": 2, \"eggs\": 0 },\n",
    "  { \"name\": \"Betty\", \"age\": 1, \"eggs\": 2 },\n",
    "  { \"name\": \"Henrietta\", \"age\": 3, \"eggs\": 1 },\n",
    "  { \"name\": \"Audrey\", \"age\": 2, \"eggs\": 0 },\n",
    "  { \"name\": \"Mabel\", \"age\": 5, \"eggs\": 1 },\n",
    "]\n",
    "\n",
    "\n",
    "def get_total_eggs_collected(chickens):\n",
    "    total_eggs = 0\n",
    "    for chicken in chickens:\n",
    "        total_eggs += chicken[\"eggs\"]\n",
    "    print(str(total_eggs) + \" total eggs collected\")\n",
    "    \n",
    "get_total_eggs_collected(chickens)"
   ]
  },
  {
   "cell_type": "code",
   "execution_count": null,
   "id": "93e59384",
   "metadata": {},
   "outputs": [],
   "source": []
  }
 ],
 "metadata": {
  "kernelspec": {
   "display_name": "Python 3 (ipykernel)",
   "language": "python",
   "name": "python3"
  },
  "language_info": {
   "codemirror_mode": {
    "name": "ipython",
    "version": 3
   },
   "file_extension": ".py",
   "mimetype": "text/x-python",
   "name": "python",
   "nbconvert_exporter": "python",
   "pygments_lexer": "ipython3",
   "version": "3.9.12"
  },
  "varInspector": {
   "cols": {
    "lenName": 16,
    "lenType": 16,
    "lenVar": 40
   },
   "kernels_config": {
    "python": {
     "delete_cmd_postfix": "",
     "delete_cmd_prefix": "del ",
     "library": "var_list.py",
     "varRefreshCmd": "print(var_dic_list())"
    },
    "r": {
     "delete_cmd_postfix": ") ",
     "delete_cmd_prefix": "rm(",
     "library": "var_list.r",
     "varRefreshCmd": "cat(var_dic_list()) "
    }
   },
   "types_to_exclude": [
    "module",
    "function",
    "builtin_function_or_method",
    "instance",
    "_Feature"
   ],
   "window_display": false
  }
 },
 "nbformat": 4,
 "nbformat_minor": 5
}
