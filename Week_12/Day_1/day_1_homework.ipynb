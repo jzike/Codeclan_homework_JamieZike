{
 "cells": [
  {
   "cell_type": "markdown",
   "id": "47aaa5aa",
   "metadata": {},
   "source": [
    "# Homework"
   ]
  },
  {
   "cell_type": "markdown",
   "id": "707dffe5",
   "metadata": {},
   "source": [
    "## Question 1\n",
    "Create a list with the following data, and then assign it to a variable named shopping: spam, ham, eggs, ham"
   ]
  },
  {
   "cell_type": "code",
   "execution_count": 1,
   "id": "068e2597",
   "metadata": {},
   "outputs": [],
   "source": [
    "shopping = [\"spam\", \"ham\", \"eggs\", \"ham\"]"
   ]
  },
  {
   "cell_type": "markdown",
   "id": "90a578e8",
   "metadata": {},
   "source": [
    "1) Extract the second element of the list"
   ]
  },
  {
   "cell_type": "code",
   "execution_count": 2,
   "id": "0be3face",
   "metadata": {},
   "outputs": [
    {
     "data": {
      "text/plain": [
       "'ham'"
      ]
     },
     "execution_count": 2,
     "metadata": {},
     "output_type": "execute_result"
    }
   ],
   "source": [
    "shopping[1]"
   ]
  },
  {
   "cell_type": "markdown",
   "id": "60d0e243",
   "metadata": {},
   "source": [
    "2) Extract the first to the third (inclusive) element of the list"
   ]
  },
  {
   "cell_type": "code",
   "execution_count": 4,
   "id": "de9413cd",
   "metadata": {},
   "outputs": [
    {
     "data": {
      "text/plain": [
       "['spam', 'ham', 'eggs']"
      ]
     },
     "execution_count": 4,
     "metadata": {},
     "output_type": "execute_result"
    }
   ],
   "source": [
    "shopping[:3]"
   ]
  },
  {
   "cell_type": "markdown",
   "id": "3c0f0c3f",
   "metadata": {},
   "source": [
    "3) Extract only the last element of the list"
   ]
  },
  {
   "cell_type": "code",
   "execution_count": 5,
   "id": "d6da3cce",
   "metadata": {},
   "outputs": [
    {
     "data": {
      "text/plain": [
       "'ham'"
      ]
     },
     "execution_count": 5,
     "metadata": {},
     "output_type": "execute_result"
    }
   ],
   "source": [
    "shopping[-1]"
   ]
  },
  {
   "cell_type": "markdown",
   "id": "7296bc87",
   "metadata": {},
   "source": [
    "## Question 2\n",
    "\n",
    "Set up a list with the following elements: stops = Croy, Cumbernauld, Falkirk High, Linlithgow, Livingston, Haymarket"
   ]
  },
  {
   "cell_type": "code",
   "execution_count": 21,
   "id": "dd4aee1c",
   "metadata": {},
   "outputs": [],
   "source": [
    "stops = [\"Croy\", \"Cumbernauld\", \"Falkirk High\", \"Linlithgow\", \"Livingston\", \"Haymarket\"]"
   ]
  },
  {
   "cell_type": "markdown",
   "id": "0033849e",
   "metadata": {},
   "source": [
    "1) Append Edinburgh Waverley to the end of the list"
   ]
  },
  {
   "cell_type": "code",
   "execution_count": 22,
   "id": "29d5780d",
   "metadata": {},
   "outputs": [
    {
     "data": {
      "text/plain": [
       "['Croy',\n",
       " 'Cumbernauld',\n",
       " 'Falkirk High',\n",
       " 'Linlithgow',\n",
       " 'Livingston',\n",
       " 'Haymarket',\n",
       " 'Edinburgh Waverley']"
      ]
     },
     "execution_count": 22,
     "metadata": {},
     "output_type": "execute_result"
    }
   ],
   "source": [
    "stops.append(\"Edinburgh Waverley\")\n",
    "stops"
   ]
  },
  {
   "cell_type": "markdown",
   "id": "c3ea9d45",
   "metadata": {},
   "source": [
    "2) Add \"Queen Street\" to the start of the list"
   ]
  },
  {
   "cell_type": "code",
   "execution_count": 23,
   "id": "ac37f308",
   "metadata": {},
   "outputs": [
    {
     "data": {
      "text/plain": [
       "['Queen Street',\n",
       " 'Croy',\n",
       " 'Cumbernauld',\n",
       " 'Falkirk High',\n",
       " 'Linlithgow',\n",
       " 'Livingston',\n",
       " 'Haymarket',\n",
       " 'Edinburgh Waverley']"
      ]
     },
     "execution_count": 23,
     "metadata": {},
     "output_type": "execute_result"
    }
   ],
   "source": [
    "stops.insert(0, \"Queen Street\")\n",
    "stops"
   ]
  },
  {
   "cell_type": "markdown",
   "id": "17810630",
   "metadata": {},
   "source": [
    "3) Find out what index \"Croy\" is at in the list"
   ]
  },
  {
   "cell_type": "code",
   "execution_count": 17,
   "id": "52552784",
   "metadata": {},
   "outputs": [
    {
     "data": {
      "text/plain": [
       "1"
      ]
     },
     "execution_count": 17,
     "metadata": {},
     "output_type": "execute_result"
    }
   ],
   "source": [
    "stops.index(\"Croy\")"
   ]
  },
  {
   "cell_type": "markdown",
   "id": "2acb0bdb",
   "metadata": {},
   "source": [
    "4) Add \"Polmont\" at the appropriate point"
   ]
  },
  {
   "cell_type": "code",
   "execution_count": 24,
   "id": "d4bdc7f7",
   "metadata": {},
   "outputs": [
    {
     "data": {
      "text/plain": [
       "['Queen Street',\n",
       " 'Croy',\n",
       " 'Cumbernauld',\n",
       " 'Falkirk High',\n",
       " 'Polmont',\n",
       " 'Linlithgow',\n",
       " 'Livingston',\n",
       " 'Haymarket',\n",
       " 'Edinburgh Waverley']"
      ]
     },
     "execution_count": 24,
     "metadata": {},
     "output_type": "execute_result"
    }
   ],
   "source": [
    "stops.insert(4, \"Polmont\")\n",
    "stops"
   ]
  },
  {
   "cell_type": "markdown",
   "id": "98f224d3",
   "metadata": {},
   "source": [
    "5) Remove \"Haymarket\" from the list of stops"
   ]
  },
  {
   "cell_type": "code",
   "execution_count": 25,
   "id": "bb6e1c43",
   "metadata": {},
   "outputs": [
    {
     "data": {
      "text/plain": [
       "['Queen Street',\n",
       " 'Croy',\n",
       " 'Cumbernauld',\n",
       " 'Falkirk High',\n",
       " 'Polmont',\n",
       " 'Linlithgow',\n",
       " 'Livingston',\n",
       " 'Edinburgh Waverley']"
      ]
     },
     "execution_count": 25,
     "metadata": {},
     "output_type": "execute_result"
    }
   ],
   "source": [
    "stops.remove(\"Haymarket\")\n",
    "stops"
   ]
  },
  {
   "cell_type": "markdown",
   "id": "7ac2415f",
   "metadata": {},
   "source": [
    "6) Remove all items from stops"
   ]
  },
  {
   "cell_type": "code",
   "execution_count": 26,
   "id": "cf6654e3",
   "metadata": {},
   "outputs": [
    {
     "data": {
      "text/plain": [
       "[]"
      ]
     },
     "execution_count": 26,
     "metadata": {},
     "output_type": "execute_result"
    }
   ],
   "source": [
    "stops = []\n",
    "stops"
   ]
  },
  {
   "cell_type": "markdown",
   "id": "ce74a59c",
   "metadata": {},
   "source": [
    "## Question 3\n",
    "\n",
    "Set up the following dictionary: person = {\"name\": \"Steph\", \"age\": 31, \"Instructor\" : True}"
   ]
  },
  {
   "cell_type": "code",
   "execution_count": 33,
   "id": "8c543650",
   "metadata": {},
   "outputs": [],
   "source": [
    "person = {\"name\": \"Steph\", \"age\": 31, \"Instructor\" : True}"
   ]
  },
  {
   "cell_type": "markdown",
   "id": "7e442ada",
   "metadata": {},
   "source": [
    "1) Return the keys, values and items from this dictionary."
   ]
  },
  {
   "cell_type": "code",
   "execution_count": 28,
   "id": "b967d17c",
   "metadata": {},
   "outputs": [
    {
     "data": {
      "text/plain": [
       "dict_keys(['name', 'age', 'Instructor'])"
      ]
     },
     "execution_count": 28,
     "metadata": {},
     "output_type": "execute_result"
    }
   ],
   "source": [
    "person.keys()"
   ]
  },
  {
   "cell_type": "code",
   "execution_count": 29,
   "id": "5c65e847",
   "metadata": {},
   "outputs": [
    {
     "data": {
      "text/plain": [
       "dict_values(['Steph', 31, True])"
      ]
     },
     "execution_count": 29,
     "metadata": {},
     "output_type": "execute_result"
    }
   ],
   "source": [
    "person.values()"
   ]
  },
  {
   "cell_type": "code",
   "execution_count": 30,
   "id": "63ebc721",
   "metadata": {},
   "outputs": [
    {
     "data": {
      "text/plain": [
       "dict_items([('name', 'Steph'), ('age', 31), ('Instructor', True)])"
      ]
     },
     "execution_count": 30,
     "metadata": {},
     "output_type": "execute_result"
    }
   ],
   "source": [
    "person.items()"
   ]
  },
  {
   "cell_type": "markdown",
   "id": "32752b3c",
   "metadata": {},
   "source": [
    "2) Take out only the name from it"
   ]
  },
  {
   "cell_type": "code",
   "execution_count": 34,
   "id": "99d58df1",
   "metadata": {},
   "outputs": [
    {
     "data": {
      "text/plain": [
       "'Steph'"
      ]
     },
     "execution_count": 34,
     "metadata": {},
     "output_type": "execute_result"
    }
   ],
   "source": [
    "person[\"name\"]"
   ]
  },
  {
   "cell_type": "markdown",
   "id": "a5f88353",
   "metadata": {},
   "source": [
    "3) Add a new key:value pair, which adds the email"
   ]
  },
  {
   "cell_type": "code",
   "execution_count": 35,
   "id": "ec778c20",
   "metadata": {},
   "outputs": [],
   "source": [
    "person.update({\"email\": \"steph@codeclan.com\"})"
   ]
  },
  {
   "cell_type": "code",
   "execution_count": 36,
   "id": "145ca77f",
   "metadata": {},
   "outputs": [
    {
     "data": {
      "text/plain": [
       "{'name': 'Steph', 'age': 31, 'Instructor': True, 'email': 'steph@codeclan.com'}"
      ]
     },
     "execution_count": 36,
     "metadata": {},
     "output_type": "execute_result"
    }
   ],
   "source": [
    "person"
   ]
  },
  {
   "cell_type": "markdown",
   "id": "a862d425",
   "metadata": {},
   "source": [
    "4) Delete the job description from the dictionary"
   ]
  },
  {
   "cell_type": "code",
   "execution_count": 37,
   "id": "738058ce",
   "metadata": {},
   "outputs": [
    {
     "data": {
      "text/plain": [
       "True"
      ]
     },
     "execution_count": 37,
     "metadata": {},
     "output_type": "execute_result"
    }
   ],
   "source": [
    "person.pop(\"Instructor\")"
   ]
  },
  {
   "cell_type": "code",
   "execution_count": 38,
   "id": "7b7ccd0f",
   "metadata": {},
   "outputs": [
    {
     "data": {
      "text/plain": [
       "{'name': 'Steph', 'age': 31, 'email': 'steph@codeclan.com'}"
      ]
     },
     "execution_count": 38,
     "metadata": {},
     "output_type": "execute_result"
    }
   ],
   "source": [
    "person"
   ]
  },
  {
   "cell_type": "markdown",
   "id": "3ef13c99",
   "metadata": {},
   "source": [
    "## Question 4\n",
    "\n",
    "For the following list of numbers:\n",
    "numbers = [1, 6, 2, 2, 7, 1, 6, 13, 99, 7]"
   ]
  },
  {
   "cell_type": "code",
   "execution_count": 2,
   "id": "0452ce7a",
   "metadata": {},
   "outputs": [],
   "source": [
    "numbers = [1, 6, 2, 2, 7, 1, 6, 13, 99, 7]"
   ]
  },
  {
   "cell_type": "markdown",
   "id": "14be01f7",
   "metadata": {},
   "source": [
    "1) Print out a list of the even integers"
   ]
  },
  {
   "cell_type": "code",
   "execution_count": 40,
   "id": "73583053",
   "metadata": {},
   "outputs": [
    {
     "data": {
      "text/plain": [
       "[6, 2, 2, 6]"
      ]
     },
     "execution_count": 40,
     "metadata": {},
     "output_type": "execute_result"
    }
   ],
   "source": [
    "[number for number in numbers if number % 2 == 0]"
   ]
  },
  {
   "cell_type": "markdown",
   "id": "c1beb51e",
   "metadata": {},
   "source": [
    "2) Print the difference between the largest and smallest value"
   ]
  },
  {
   "cell_type": "code",
   "execution_count": 43,
   "id": "2b97fdbc",
   "metadata": {},
   "outputs": [
    {
     "data": {
      "text/plain": [
       "98"
      ]
     },
     "execution_count": 43,
     "metadata": {},
     "output_type": "execute_result"
    }
   ],
   "source": [
    "def max_min_diff(numbers):\n",
    "    number_1 = max(numbers)\n",
    "    number_2 = min(numbers)\n",
    "    return number_1 - number_2\n",
    "\n",
    "max_min_diff(numbers)"
   ]
  },
  {
   "cell_type": "markdown",
   "id": "ff236094",
   "metadata": {},
   "source": [
    "3) Print true if the list contains a 2 next to a 2 somewhere"
   ]
  },
  {
   "cell_type": "code",
   "execution_count": 52,
   "id": "c05347f0",
   "metadata": {},
   "outputs": [
    {
     "name": "stdout",
     "output_type": "stream",
     "text": [
      "True\n"
     ]
    }
   ],
   "source": [
    "stored_value = 0\n",
    "for number in numbers:\n",
    "    if stored_value == 2 and number == 2:\n",
    "        print(True)\n",
    "    else: stored_value = number"
   ]
  },
  {
   "cell_type": "markdown",
   "id": "ab5a53d8",
   "metadata": {},
   "source": [
    "4) Print the sum of the numbers, BUT ignore any section of numbers starting with a 6 and extending to the next 7"
   ]
  },
  {
   "cell_type": "code",
   "execution_count": 6,
   "id": "9ec08126",
   "metadata": {},
   "outputs": [
    {
     "name": "stdout",
     "output_type": "stream",
     "text": [
      "2\n"
     ]
    }
   ],
   "source": [
    "running_total = 0\n",
    "count = True\n",
    "\n",
    "for num in numbers:\n",
    "    if num == 6:\n",
    "        #stop counting if number is a 6\n",
    "        count = False\n",
    "    if count == True:\n",
    "        running_total = running_total + num\n",
    "    if num == 7:\n",
    "        #need to have this at the end so that 7's aren't added to the running total\n",
    "        count = True\n",
    "        \n",
    "print(running_total)"
   ]
  },
  {
   "cell_type": "markdown",
   "id": "83c09298",
   "metadata": {},
   "source": [
    "## Question 5\n",
    "\n",
    "Write a conditional that takes in two inputs"
   ]
  },
  {
   "cell_type": "code",
   "execution_count": 65,
   "id": "a0ffbe65",
   "metadata": {},
   "outputs": [
    {
     "name": "stdout",
     "output_type": "stream",
     "text": [
      "Python is not for me!\n"
     ]
    }
   ],
   "source": [
    "python_is_fun = True\n",
    "python_is_weird = False\n",
    "\n",
    "if python_is_fun == True or python_is_weird == True or python_is_fun == True and python_is_weird == True:\n",
    "    print(\"Woo Python!\")\n",
    "else:\n",
    "    print(\"Python is not for me!\")"
   ]
  },
  {
   "cell_type": "markdown",
   "id": "6ae35b75",
   "metadata": {},
   "source": [
    "## Question 6\n",
    "\n",
    "We have a list of chickens and the farmer would like to go through all the chickens, collecting the eggs and getting the total number of eggs collected."
   ]
  },
  {
   "cell_type": "code",
   "execution_count": 67,
   "id": "339cffbd",
   "metadata": {},
   "outputs": [
    {
     "name": "stdout",
     "output_type": "stream",
     "text": [
      "12 total eggs collected\n"
     ]
    }
   ],
   "source": [
    "chickens = [\n",
    "  { \"name\": \"Margaret\", \"age\": 2, \"eggs\": 0 },\n",
    "  { \"name\": \"Hetty\", \"age\": 1, \"eggs\": 2 },\n",
    "  { \"name\": \"Henrietta\", \"age\": 3, \"eggs\": 1 },\n",
    "  { \"name\": \"Audrey\", \"age\": 2, \"eggs\": 0 },\n",
    "  { \"name\": \"Mabel\", \"age\": 5, \"eggs\": 1 },\n",
    "]\n",
    "\n",
    "chickens2 = [\n",
    "  { \"name\": \"Sally\", \"age\": 2, \"eggs\": 5 },\n",
    "  { \"name\": \"Betty\", \"age\": 1, \"eggs\": 3 },\n",
    "  { \"name\": \"Barbara\", \"age\": 3, \"eggs\": 4 },\n",
    "]\n",
    "\n",
    "\n",
    "def get_total_eggs_collected(chickens):\n",
    "    total_eggs = 0\n",
    "    for chicken in chickens:\n",
    "        total_eggs += chicken[\"eggs\"]\n",
    "    print(str(total_eggs) + \" total eggs collected\")\n",
    "    \n",
    "get_total_eggs_collected(chickens2)"
   ]
  },
  {
   "cell_type": "code",
   "execution_count": null,
   "id": "0e0f143d",
   "metadata": {},
   "outputs": [],
   "source": []
  }
 ],
 "metadata": {
  "kernelspec": {
   "display_name": "Python 3 (ipykernel)",
   "language": "python",
   "name": "python3"
  },
  "language_info": {
   "codemirror_mode": {
    "name": "ipython",
    "version": 3
   },
   "file_extension": ".py",
   "mimetype": "text/x-python",
   "name": "python",
   "nbconvert_exporter": "python",
   "pygments_lexer": "ipython3",
   "version": "3.9.12"
  },
  "varInspector": {
   "cols": {
    "lenName": 16,
    "lenType": 16,
    "lenVar": 40
   },
   "kernels_config": {
    "python": {
     "delete_cmd_postfix": "",
     "delete_cmd_prefix": "del ",
     "library": "var_list.py",
     "varRefreshCmd": "print(var_dic_list())"
    },
    "r": {
     "delete_cmd_postfix": ") ",
     "delete_cmd_prefix": "rm(",
     "library": "var_list.r",
     "varRefreshCmd": "cat(var_dic_list()) "
    }
   },
   "types_to_exclude": [
    "module",
    "function",
    "builtin_function_or_method",
    "instance",
    "_Feature"
   ],
   "window_display": false
  }
 },
 "nbformat": 4,
 "nbformat_minor": 5
}
